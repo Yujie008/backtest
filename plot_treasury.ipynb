{
 "cells": [
  {
   "cell_type": "code",
   "execution_count": null,
   "metadata": {},
   "outputs": [],
   "source": [
    "import json,matplotlib\n",
    "import signal\n",
    "import matplotlib.pyplot as plt\n",
    "# matplotlib.use('TkAgg')\n",
    "start_date = \"2000-01-01\"\n",
    "stock_code = 'ten_yr_treasury_yield_dataonly'\n",
    "with open('logs_alpha/23-12-30/'+stock_code+'.txt', 'r') as file:\n",
    "    data_raw = file.read()\n",
    "data0 = json.loads(data_raw) # convert to dictionary\n",
    "ten_yr_treasury_rate_total = data0[\"data\"]\n",
    "ten_yr_treasury_rate_sel,ten_yr_treasury_rate_date =[],[]\n",
    "for i_e in range(len(ten_yr_treasury_rate_total)-1):\n",
    "    try:\n",
    "        ten_yr_treasury_value = float(ten_yr_treasury_rate_total[i_e][\"value\"])\n",
    "        ten_yr_treasury_rate_sel.append(ten_yr_treasury_value)\n",
    "        ten_yr_treasury_rate_date.append(ten_yr_treasury_rate_total[i_e][\"date\"])\n",
    "    except:\n",
    "        continue        \n",
    "    if ten_yr_treasury_rate_total[i_e][\"date\"]>start_date and ten_yr_treasury_rate_total[i_e+1][\"date\"]<start_date:\n",
    "        break\n",
    "ten_yr_treasury_rate_sel.reverse(),ten_yr_treasury_rate_date.reverse()\n",
    "# matplotlib.use('Agg')\n",
    "plt.plot(ten_yr_treasury_rate_date,ten_yr_treasury_rate_sel)\n",
    "# plt.title(\"Value vs Time\")\n",
    "plt.xlabel('Time Span')\n",
    "plt.ylabel('Value')\n",
    "plt.show()\n",
    "# EPS_date,EPS_value = [],[]\n",
    "# len_EPS = len(quarterlyEarnings)\n",
    "# for i_e in range(len_EPS):\n",
    "#     value = quarterlyEarnings[i_e]\n",
    "#     EPS_date.append(value[\"fiscalDateEnding\"])\n",
    "#     EPS_value.append(float(value[\"reportedEPS\"]))\n",
    "# EPS_date.reverse()\n",
    "# EPS_value.reverse()"
   ]
  }
 ],
 "metadata": {
  "language_info": {
   "name": "python"
  }
 },
 "nbformat": 4,
 "nbformat_minor": 2
}
